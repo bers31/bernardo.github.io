{
 "cells": [
  {
   "cell_type": "code",
   "execution_count": 1,
   "metadata": {
    "_cell_guid": "b1076dfc-b9ad-4769-8c92-a6c4dae69d19",
    "_uuid": "8f2839f25d086af736a60e9eeb907d3b93b6e0e5",
    "execution": {
     "iopub.execute_input": "2024-05-18T03:19:37.591842Z",
     "iopub.status.busy": "2024-05-18T03:19:37.591430Z",
     "iopub.status.idle": "2024-05-18T03:19:38.057417Z",
     "shell.execute_reply": "2024-05-18T03:19:38.056347Z",
     "shell.execute_reply.started": "2024-05-18T03:19:37.591805Z"
    },
    "trusted": true
   },
   "outputs": [],
   "source": [
    "# This Python 3 environment comes with many helpful analytics libraries installed\n",
    "# It is defined by the kaggle/python Docker image: https://github.com/kaggle/docker-python\n",
    "# For example, here's several helpful packages to load\n",
    "\n",
    "import numpy as np # linear algebra\n",
    "import pandas as pd # data processing, CSV file I/O (e.g. pd.read_csv)\n",
    "\n",
    "# Input data files are available in the read-only \"../input/\" directory\n",
    "# For example, running this (by clicking run or pressing Shift+Enter) will list all files under the input directory\n",
    "\n",
    "import os\n",
    "for dirname, _, filenames in os.walk('/kaggle/input'):\n",
    "    for filename in filenames:\n",
    "        print(os.path.join(dirname, filename))\n",
    "\n",
    "# You can write up to 20GB to the current directory (/kaggle/working/) that gets preserved as output when you create a version using \"Save & Run All\" \n",
    "# You can also write temporary files to /kaggle/temp/, but they won't be saved outside of the current session"
   ]
  },
  {
   "cell_type": "code",
   "execution_count": null,
   "metadata": {
    "execution": {
     "iopub.execute_input": "2024-05-18T03:19:38.059990Z",
     "iopub.status.busy": "2024-05-18T03:19:38.059544Z",
     "iopub.status.idle": "2024-05-18T03:19:40.117360Z",
     "shell.execute_reply": "2024-05-18T03:19:40.116055Z",
     "shell.execute_reply.started": "2024-05-18T03:19:38.059960Z"
    },
    "trusted": true
   },
   "outputs": [
    {
     "ename": "ModuleNotFoundError",
     "evalue": "No module named 'xgboost'",
     "output_type": "error",
     "traceback": [
      "\u001b[1;31m---------------------------------------------------------------------------\u001b[0m",
      "\u001b[1;31mModuleNotFoundError\u001b[0m                       Traceback (most recent call last)",
      "Cell \u001b[1;32mIn[2], line 10\u001b[0m\n\u001b[0;32m      7\u001b[0m \u001b[38;5;28;01mimport\u001b[39;00m \u001b[38;5;21;01mmatplotlib\u001b[39;00m\u001b[38;5;21;01m.\u001b[39;00m\u001b[38;5;21;01mpyplot\u001b[39;00m \u001b[38;5;28;01mas\u001b[39;00m \u001b[38;5;21;01mplt\u001b[39;00m\n\u001b[0;32m      8\u001b[0m \u001b[38;5;28;01mimport\u001b[39;00m \u001b[38;5;21;01mseaborn\u001b[39;00m \u001b[38;5;28;01mas\u001b[39;00m \u001b[38;5;21;01msns\u001b[39;00m\n\u001b[1;32m---> 10\u001b[0m \u001b[38;5;28;01mimport\u001b[39;00m \u001b[38;5;21;01mxgboost\u001b[39;00m \u001b[38;5;28;01mas\u001b[39;00m \u001b[38;5;21;01mxgb\u001b[39;00m\n\u001b[0;32m     11\u001b[0m \u001b[38;5;28;01mfrom\u001b[39;00m \u001b[38;5;21;01msklearn\u001b[39;00m\u001b[38;5;21;01m.\u001b[39;00m\u001b[38;5;21;01mmodel_selection\u001b[39;00m \u001b[38;5;28;01mimport\u001b[39;00m train_test_split\n\u001b[0;32m     12\u001b[0m \u001b[38;5;28;01mfrom\u001b[39;00m \u001b[38;5;21;01msklearn\u001b[39;00m\u001b[38;5;21;01m.\u001b[39;00m\u001b[38;5;21;01mmetrics\u001b[39;00m \u001b[38;5;28;01mimport\u001b[39;00m mean_squared_error\n",
      "\u001b[1;31mModuleNotFoundError\u001b[0m: No module named 'xgboost'"
     ]
    }
   ],
   "source": [
    "\n",
    "import pandas as pd\n",
    "import numpy as np\n",
    "import random\n",
    "import os\n",
    "from tqdm.notebook import tqdm\n",
    "from sklearn.metrics import root_mean_squared_error\n",
    "\n",
    "import matplotlib.pyplot as plt\n",
    "import seaborn as sns\n",
    "\n",
    "import xgboost as xgb\n",
    "from sklearn.model_selection import train_test_split\n",
    "from sklearn.metrics import mean_squared_error\n",
    "pd.options.display.float_format = '{:.5f}'.format\n",
    "pd.options.display.max_rows = None\n",
    "\n",
    "%matplotlib inline\n",
    "import warnings\n",
    "warnings.filterwarnings('ignore')\n"
   ]
  },
  {
   "cell_type": "code",
   "execution_count": null,
   "metadata": {
    "execution": {
     "iopub.execute_input": "2024-05-18T03:19:40.119503Z",
     "iopub.status.busy": "2024-05-18T03:19:40.119036Z",
     "iopub.status.idle": "2024-05-18T03:19:40.126049Z",
     "shell.execute_reply": "2024-05-18T03:19:40.124268Z",
     "shell.execute_reply.started": "2024-05-18T03:19:40.119460Z"
    },
    "trusted": true
   },
   "outputs": [],
   "source": [
    "SEED = 1044\n",
    "random.seed(SEED)\n",
    "np.random.seed(SEED)"
   ]
  },
  {
   "cell_type": "code",
   "execution_count": null,
   "metadata": {
    "execution": {
     "iopub.execute_input": "2024-05-18T03:19:40.130592Z",
     "iopub.status.busy": "2024-05-18T03:19:40.130132Z",
     "iopub.status.idle": "2024-05-18T03:19:43.717761Z",
     "shell.execute_reply": "2024-05-18T03:19:43.716515Z",
     "shell.execute_reply.started": "2024-05-18T03:19:40.130551Z"
    },
    "trusted": true
   },
   "outputs": [],
   "source": [
    "DATA_PATH = '/kaggle/input/playground-series-s3e20'\n",
    "\n",
    "train = pd.read_csv(os.path.join(DATA_PATH, 'train.csv'))\n",
    "test = pd.read_csv(os.path.join(DATA_PATH, 'test.csv'))\n",
    "samplesubmission = pd.read_csv(os.path.join(DATA_PATH, 'sample_submission.csv'))\n",
    "\n",
    "train.head(10)"
   ]
  },
  {
   "cell_type": "code",
   "execution_count": null,
   "metadata": {
    "execution": {
     "iopub.execute_input": "2024-05-18T03:19:43.720357Z",
     "iopub.status.busy": "2024-05-18T03:19:43.719921Z",
     "iopub.status.idle": "2024-05-18T03:19:44.232014Z",
     "shell.execute_reply": "2024-05-18T03:19:44.230802Z",
     "shell.execute_reply.started": "2024-05-18T03:19:43.720316Z"
    },
    "trusted": true
   },
   "outputs": [],
   "source": [
    "train.describe()"
   ]
  },
  {
   "cell_type": "code",
   "execution_count": null,
   "metadata": {
    "execution": {
     "iopub.execute_input": "2024-05-18T03:19:44.233660Z",
     "iopub.status.busy": "2024-05-18T03:19:44.233328Z",
     "iopub.status.idle": "2024-05-18T03:19:44.282355Z",
     "shell.execute_reply": "2024-05-18T03:19:44.281269Z",
     "shell.execute_reply.started": "2024-05-18T03:19:44.233605Z"
    },
    "trusted": true
   },
   "outputs": [],
   "source": [
    "train.info()"
   ]
  },
  {
   "cell_type": "code",
   "execution_count": null,
   "metadata": {
    "execution": {
     "iopub.execute_input": "2024-05-18T03:19:44.283983Z",
     "iopub.status.busy": "2024-05-18T03:19:44.283663Z",
     "iopub.status.idle": "2024-05-18T03:19:44.291169Z",
     "shell.execute_reply": "2024-05-18T03:19:44.289945Z",
     "shell.execute_reply.started": "2024-05-18T03:19:44.283954Z"
    },
    "trusted": true
   },
   "outputs": [],
   "source": [
    "train.shape , test.shape"
   ]
  },
  {
   "cell_type": "code",
   "execution_count": null,
   "metadata": {
    "execution": {
     "iopub.execute_input": "2024-05-18T03:19:44.292806Z",
     "iopub.status.busy": "2024-05-18T03:19:44.292454Z",
     "iopub.status.idle": "2024-05-18T03:19:44.437031Z",
     "shell.execute_reply": "2024-05-18T03:19:44.435905Z",
     "shell.execute_reply.started": "2024-05-18T03:19:44.292774Z"
    },
    "trusted": true
   },
   "outputs": [],
   "source": [
    "train['location'] = [str(x) + '_' + str(y) for x, y in zip(train.latitude, train.longitude)]"
   ]
  },
  {
   "cell_type": "code",
   "execution_count": null,
   "metadata": {
    "execution": {
     "iopub.execute_input": "2024-05-18T03:19:44.438655Z",
     "iopub.status.busy": "2024-05-18T03:19:44.438287Z",
     "iopub.status.idle": "2024-05-18T03:19:44.465066Z",
     "shell.execute_reply": "2024-05-18T03:19:44.463643Z",
     "shell.execute_reply.started": "2024-05-18T03:19:44.438599Z"
    },
    "trusted": true
   },
   "outputs": [],
   "source": [
    "train.tail(10)"
   ]
  },
  {
   "cell_type": "code",
   "execution_count": null,
   "metadata": {
    "execution": {
     "iopub.execute_input": "2024-05-18T03:19:44.470058Z",
     "iopub.status.busy": "2024-05-18T03:19:44.469571Z",
     "iopub.status.idle": "2024-05-18T03:19:44.494341Z",
     "shell.execute_reply": "2024-05-18T03:19:44.493152Z",
     "shell.execute_reply.started": "2024-05-18T03:19:44.470019Z"
    },
    "trusted": true
   },
   "outputs": [],
   "source": [
    "exampleLoc = train[train.location == '-3.299_30.301']\n",
    "\n",
    "rollmean = exampleLoc['SulphurDioxide_SO2_column_number_density_amf'].rolling(window=2).mean()"
   ]
  },
  {
   "cell_type": "code",
   "execution_count": null,
   "metadata": {
    "execution": {
     "iopub.execute_input": "2024-05-18T03:19:44.497155Z",
     "iopub.status.busy": "2024-05-18T03:19:44.495986Z",
     "iopub.status.idle": "2024-05-18T03:19:44.911606Z",
     "shell.execute_reply": "2024-05-18T03:19:44.910571Z",
     "shell.execute_reply.started": "2024-05-18T03:19:44.497118Z"
    },
    "trusted": true
   },
   "outputs": [],
   "source": [
    "plt.figure(figsize=(15, 7))\n",
    "rollmean.plot()\n",
    "plt.title('Rolling mean with a window of 2 weeks for SulphurDioxide_SO2_column_number_density_amf', y=1.02, fontsize=15)\n",
    "plt.xlabel('week', y=1.05, fontsize=13)\n",
    "plt.ylabel('SulphurDioxide_SO2_column_number_density_amf', x=1.05, fontsize=13)\n",
    "plt.show()"
   ]
  },
  {
   "cell_type": "code",
   "execution_count": null,
   "metadata": {
    "execution": {
     "iopub.execute_input": "2024-05-18T03:19:44.914073Z",
     "iopub.status.busy": "2024-05-18T03:19:44.912682Z",
     "iopub.status.idle": "2024-05-18T03:19:50.851194Z",
     "shell.execute_reply": "2024-05-18T03:19:50.849947Z",
     "shell.execute_reply.started": "2024-05-18T03:19:44.914035Z"
    },
    "trusted": true
   },
   "outputs": [],
   "source": [
    "train_roll_mean = train.sort_values(by = ['location', 'year', 'week_no']).groupby(['location'])[train.columns[5:].tolist()].rolling(window = 2).mean().reset_index()\n",
    "train_roll_mean.drop(['level_1', 'emission', 'location'], axis = 1, inplace = True)\n",
    "train_roll_mean.columns = [col + '_roll_mean' for col in train_roll_mean.columns]\n",
    "\n",
    "\n",
    "test.latitude, test.longitude = round(test.latitude, 2), round(test.longitude, 2)\n",
    "test['location'] = [str(x) + '_' + str(y) for x, y in zip(test.latitude, test.longitude)]\n",
    "test_roll_mean = test.sort_values(by = ['location', 'year', 'week_no']).groupby(['location'])[test.columns[5:].tolist()].rolling(window = 2).mean().reset_index()\n",
    "test_roll_mean.drop(['level_1', 'location'], axis = 1, inplace = True)\n",
    "test_roll_mean.columns =  [col + '_roll_mean' for col in test_roll_mean.columns]\n",
    "test_roll_mean.head()\n"
   ]
  },
  {
   "cell_type": "code",
   "execution_count": null,
   "metadata": {
    "execution": {
     "iopub.execute_input": "2024-05-18T03:19:50.852954Z",
     "iopub.status.busy": "2024-05-18T03:19:50.852514Z",
     "iopub.status.idle": "2024-05-18T03:19:50.986740Z",
     "shell.execute_reply": "2024-05-18T03:19:50.985573Z",
     "shell.execute_reply.started": "2024-05-18T03:19:50.852919Z"
    },
    "trusted": true
   },
   "outputs": [],
   "source": [
    "train_eng = train.sort_values(by = ['location', 'year', 'week_no'], ignore_index = True).merge(train_roll_mean, how = 'left',\n",
    "                                                                                               left_index=True, right_index=True)\n",
    "test_eng = test.sort_values(by = ['location', 'year', 'week_no'], ignore_index = True).merge(test_roll_mean, how = 'left',\n",
    "                                                                                               left_index=True, right_index=True)\n",
    "test_eng.head()"
   ]
  },
  {
   "cell_type": "code",
   "execution_count": null,
   "metadata": {
    "execution": {
     "iopub.execute_input": "2024-05-18T03:19:50.988554Z",
     "iopub.status.busy": "2024-05-18T03:19:50.988199Z",
     "iopub.status.idle": "2024-05-18T03:19:58.088346Z",
     "shell.execute_reply": "2024-05-18T03:19:58.087428Z",
     "shell.execute_reply.started": "2024-05-18T03:19:50.988517Z"
    },
    "trusted": true
   },
   "outputs": [],
   "source": [
    "X = train_eng.drop(['ID_LAT_LON_YEAR_WEEK', 'location', 'emission'], axis=1)\n",
    "X = X.fillna(X.median())\n",
    "y = train_eng.emission\n",
    "\n",
    "X_train, X_test, y_train, y_test = train_test_split(X, y, test_size=0.3, random_state=SEED)\n",
    "\n",
    "xgb_reg = xgb.XGBRegressor(random_state=SEED, n_jobs=-1)\n",
    "\n",
    "xgb_reg.fit(X_train, y_train)\n",
    "\n",
    "y_pred = xgb_reg.predict(X_test)\n",
    "\n",
    "rmse = root_mean_squared_error(y_test, y_pred, squared=False)\n",
    "print(f'RMSE Score: {rmse}')"
   ]
  },
  {
   "cell_type": "code",
   "execution_count": null,
   "metadata": {
    "execution": {
     "iopub.execute_input": "2024-05-18T03:19:58.096668Z",
     "iopub.status.busy": "2024-05-18T03:19:58.093268Z",
     "iopub.status.idle": "2024-05-18T03:19:58.124569Z",
     "shell.execute_reply": "2024-05-18T03:19:58.123410Z",
     "shell.execute_reply.started": "2024-05-18T03:19:58.096597Z"
    },
    "trusted": true
   },
   "outputs": [],
   "source": [
    "X_test.head(10)"
   ]
  },
  {
   "cell_type": "code",
   "execution_count": null,
   "metadata": {
    "execution": {
     "iopub.execute_input": "2024-05-18T03:19:58.126794Z",
     "iopub.status.busy": "2024-05-18T03:19:58.126382Z",
     "iopub.status.idle": "2024-05-18T03:19:58.146898Z",
     "shell.execute_reply": "2024-05-18T03:19:58.145685Z",
     "shell.execute_reply.started": "2024-05-18T03:19:58.126757Z"
    },
    "trusted": true
   },
   "outputs": [],
   "source": [
    "X_test.info()"
   ]
  },
  {
   "cell_type": "code",
   "execution_count": null,
   "metadata": {
    "execution": {
     "iopub.execute_input": "2024-05-18T03:19:58.148566Z",
     "iopub.status.busy": "2024-05-18T03:19:58.148221Z",
     "iopub.status.idle": "2024-05-18T03:19:58.160770Z",
     "shell.execute_reply": "2024-05-18T03:19:58.159596Z",
     "shell.execute_reply.started": "2024-05-18T03:19:58.148536Z"
    },
    "trusted": true
   },
   "outputs": [],
   "source": [
    "X_test.shape"
   ]
  },
  {
   "cell_type": "code",
   "execution_count": null,
   "metadata": {
    "execution": {
     "iopub.execute_input": "2024-05-18T03:19:58.162606Z",
     "iopub.status.busy": "2024-05-18T03:19:58.162176Z",
     "iopub.status.idle": "2024-05-18T03:19:58.233282Z",
     "shell.execute_reply": "2024-05-18T03:19:58.232078Z",
     "shell.execute_reply.started": "2024-05-18T03:19:58.162564Z"
    },
    "trusted": true
   },
   "outputs": [],
   "source": [
    "prederr = X_test.copy()\n",
    "prederr['emission'] = y_test\n",
    "prederr['prediction'] = y_pred\n",
    "prederr['error'] = abs(prederr.prediction - prederr.emission)\n",
    "prederr = prederr[['latitude',\t'longitude',\t'year',\t'week_no', 'emission', 'prediction', 'error']]\n",
    "prederr.sort_values(by = 'error', ascending = False, inplace = True)\n",
    "prederr.head()"
   ]
  },
  {
   "cell_type": "code",
   "execution_count": null,
   "metadata": {
    "execution": {
     "iopub.execute_input": "2024-05-18T03:19:58.235059Z",
     "iopub.status.busy": "2024-05-18T03:19:58.234698Z",
     "iopub.status.idle": "2024-05-18T03:19:58.250692Z",
     "shell.execute_reply": "2024-05-18T03:19:58.249404Z",
     "shell.execute_reply.started": "2024-05-18T03:19:58.235026Z"
    },
    "trusted": true
   },
   "outputs": [],
   "source": [
    "prederr.head(10)\n"
   ]
  },
  {
   "cell_type": "code",
   "execution_count": null,
   "metadata": {
    "execution": {
     "iopub.execute_input": "2024-05-18T03:19:58.253264Z",
     "iopub.status.busy": "2024-05-18T03:19:58.252408Z",
     "iopub.status.idle": "2024-05-18T03:19:58.771388Z",
     "shell.execute_reply": "2024-05-18T03:19:58.769922Z",
     "shell.execute_reply.started": "2024-05-18T03:19:58.253220Z"
    },
    "trusted": true
   },
   "outputs": [],
   "source": [
    "impo_df = pd.DataFrame({'feature': X.columns, 'importance': xgb_reg.feature_importances_}).set_index('feature').sort_values(by = 'importance', ascending = False)\n",
    "impo_df = impo_df[:21].sort_values(by = 'importance', ascending = True)\n",
    "impo_df.plot(kind = 'barh', figsize = (10, 10))\n",
    "plt.legend(loc = 'center right')\n",
    "plt.title('Feature importance', fontsize = 14)\n",
    "plt.xlabel('Features', fontsize = 12)\n",
    "plt.show()"
   ]
  },
  {
   "cell_type": "code",
   "execution_count": null,
   "metadata": {
    "execution": {
     "iopub.execute_input": "2024-05-18T03:19:58.773509Z",
     "iopub.status.busy": "2024-05-18T03:19:58.773045Z",
     "iopub.status.idle": "2024-05-18T03:19:59.077890Z",
     "shell.execute_reply": "2024-05-18T03:19:59.076834Z",
     "shell.execute_reply.started": "2024-05-18T03:19:58.773464Z"
    },
    "trusted": true
   },
   "outputs": [],
   "source": [
    "test_df = test_eng.drop(['ID_LAT_LON_YEAR_WEEK', 'location'], axis = 1)\n",
    "test_df = test_df.fillna(test_df.median())\n",
    "predictions = xgb_reg.predict(test_df)\n",
    "\n",
    "subFile = pd.DataFrame({'ID_LAT_LON_YEAR_WEEK': test_eng.ID_LAT_LON_YEAR_WEEK, 'emission': predictions})\n"
   ]
  },
  {
   "cell_type": "code",
   "execution_count": null,
   "metadata": {
    "execution": {
     "iopub.execute_input": "2024-05-18T03:19:59.084183Z",
     "iopub.status.busy": "2024-05-18T03:19:59.082926Z",
     "iopub.status.idle": "2024-05-18T03:19:59.097097Z",
     "shell.execute_reply": "2024-05-18T03:19:59.095789Z",
     "shell.execute_reply.started": "2024-05-18T03:19:59.084140Z"
    },
    "trusted": true
   },
   "outputs": [],
   "source": [
    "subFile.head(20)"
   ]
  },
  {
   "cell_type": "code",
   "execution_count": null,
   "metadata": {
    "execution": {
     "iopub.execute_input": "2024-05-18T03:19:59.098626Z",
     "iopub.status.busy": "2024-05-18T03:19:59.098256Z",
     "iopub.status.idle": "2024-05-18T03:19:59.118325Z",
     "shell.execute_reply": "2024-05-18T03:19:59.117153Z",
     "shell.execute_reply.started": "2024-05-18T03:19:59.098581Z"
    },
    "trusted": true
   },
   "outputs": [],
   "source": [
    "subFile.describe()"
   ]
  },
  {
   "cell_type": "code",
   "execution_count": null,
   "metadata": {
    "execution": {
     "iopub.execute_input": "2024-05-18T03:19:59.120935Z",
     "iopub.status.busy": "2024-05-18T03:19:59.120056Z",
     "iopub.status.idle": "2024-05-18T03:19:59.134126Z",
     "shell.execute_reply": "2024-05-18T03:19:59.132530Z",
     "shell.execute_reply.started": "2024-05-18T03:19:59.120889Z"
    },
    "trusted": true
   },
   "outputs": [],
   "source": [
    "subFile['emission'] = subFile['emission'].abs()\n",
    "subFile.head(10)"
   ]
  },
  {
   "cell_type": "code",
   "execution_count": null,
   "metadata": {
    "execution": {
     "iopub.execute_input": "2024-05-18T03:19:59.136483Z",
     "iopub.status.busy": "2024-05-18T03:19:59.136006Z",
     "iopub.status.idle": "2024-05-18T03:19:59.250984Z",
     "shell.execute_reply": "2024-05-18T03:19:59.249748Z",
     "shell.execute_reply.started": "2024-05-18T03:19:59.136442Z"
    },
    "trusted": true
   },
   "outputs": [],
   "source": [
    "subFile.to_csv('BaselineSubmission.csv', index = False)"
   ]
  }
 ],
 "metadata": {
  "kaggle": {
   "accelerator": "none",
   "dataSources": [
    {
     "databundleVersionId": 6306871,
     "sourceId": 57095,
     "sourceType": "competition"
    }
   ],
   "dockerImageVersionId": 30635,
   "isGpuEnabled": false,
   "isInternetEnabled": true,
   "language": "python",
   "sourceType": "notebook"
  },
  "kernelspec": {
   "display_name": "Python 3",
   "language": "python",
   "name": "python3"
  },
  "language_info": {
   "codemirror_mode": {
    "name": "ipython",
    "version": 3
   },
   "file_extension": ".py",
   "mimetype": "text/x-python",
   "name": "python",
   "nbconvert_exporter": "python",
   "pygments_lexer": "ipython3",
   "version": "3.11.9"
  }
 },
 "nbformat": 4,
 "nbformat_minor": 4
}
